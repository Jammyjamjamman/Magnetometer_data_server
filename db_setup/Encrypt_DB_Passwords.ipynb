{
 "cells": [
  {
   "cell_type": "markdown",
   "metadata": {},
   "source": [
    "## Initial database setup.\n",
    "\n",
    "\n",
    "### Create an encrypted file with all the database passwords using [Fernet](https://cryptography.io/en/latest/fernet/).\n",
    "\n",
    "Import the relevant libraries."
   ]
  },
  {
   "cell_type": "code",
   "execution_count": 4,
   "metadata": {},
   "outputs": [],
   "source": [
    "from cryptography.fernet import Fernet\n",
    "import json"
   ]
  },
  {
   "cell_type": "markdown",
   "metadata": {},
   "source": [
    "1. Create a dictionary, with usernames as keys and corresponding passwords (you chose) as values. This dictionary must contain the users and passwords which can write/update observatory data, write sensor data and write magnetometer data. It is recommended to delete this cell after the passwords have been encrypted (as done in the code cell after the next). A key needs to be chosen for encryption. This can be generated using Fernet.generate_key()."
   ]
  },
  {
   "cell_type": "code",
   "execution_count": 5,
   "metadata": {},
   "outputs": [
    {
     "name": "stdout",
     "output_type": "stream",
     "text": [
      "The key is: b'bZ54iqDolhe8n-UBJ8wCwOgN61a9_Ef_TUX7HUB5LIE='\n"
     ]
    }
   ],
   "source": [
    "# Set these passwords to the passwords you chose!\n",
    "password_dict = {\"Obsmanager\": \"obspassword\",\n",
    "                 \"Sensorwriter\": \"senpassword\",\n",
    "                 \"Magnetwriter\": \"magpassword\"}\n",
    "\n",
    "# Keep this safe!\n",
    "key = b'bZ54iqDolhe8n-UBJ8wCwOgN61a9_Ef_TUX7HUB5LIE='#Fernet.generate_key()\n",
    "print(\"The key is:\", key)"
   ]
  },
  {
   "cell_type": "markdown",
   "metadata": {},
   "source": [
    "2. Encrypt passwords.\n",
    "\n",
    "Load the script for encrypting the passowords."
   ]
  },
  {
   "cell_type": "code",
   "execution_count": null,
   "metadata": {},
   "outputs": [],
   "source": [
    "%load encrypt_passwords.py"
   ]
  },
  {
   "cell_type": "markdown",
   "metadata": {},
   "source": [
    "Encrypt the passwords."
   ]
  },
  {
   "cell_type": "code",
   "execution_count": 7,
   "metadata": {},
   "outputs": [],
   "source": [
    "f = Fernet(key)\n",
    "token = f.encrypt(bytes(json.dumps(password_dict), \"utf-8\"))\n",
    "with open(\"access.crypt\", 'wb') as cr_file:\n",
    "    cr_file.write(token)\n",
    "\n",
    "del password_dict, f, token"
   ]
  },
  {
   "cell_type": "markdown",
   "metadata": {},
   "source": [
    "3. Try reloading passwords."
   ]
  },
  {
   "cell_type": "code",
   "execution_count": 8,
   "metadata": {},
   "outputs": [
    {
     "name": "stdout",
     "output_type": "stream",
     "text": [
      "{'Obsmanager': 'obspassword', 'Sensorwriter': 'senpassword', 'Magnetwriter': 'magpassword'}\n"
     ]
    }
   ],
   "source": [
    "f = Fernet(key)\n",
    "with open(\"access.crypt\", 'rb') as cr_file:\n",
    "    password_dict = json.loads(f.decrypt(cr_file.read()).decode(\"utf-8\"))\n",
    "    \n",
    "print(password_dict)"
   ]
  },
  {
   "cell_type": "markdown",
   "metadata": {},
   "source": [
    "### Sharing the database access with other relevant python scripts.\n",
    "\n",
    "Now that the key and a file called `access.crypt` has been generated, these need to be shared with other components of the server:\n",
    "* A copy of `access.crypt` is needed in `/path/to/Magnetometer_data_server/db_updater` and the key needs to be supplied in the script `/path/to/Magnetometer_data_server/db_updater/mongo_cursors.py` as the global variable `KEY`.\n",
    "\n",
    "See 6 in [database_setup.md](database_setup.md) to see what other database details need sharing."
   ]
  }
 ],
 "metadata": {
  "anaconda-cloud": {},
  "kernelspec": {
   "display_name": "Python 3",
   "language": "python",
   "name": "python3"
  },
  "language_info": {
   "codemirror_mode": {
    "name": "ipython",
    "version": 3
   },
   "file_extension": ".py",
   "mimetype": "text/x-python",
   "name": "python",
   "nbconvert_exporter": "python",
   "pygments_lexer": "ipython3",
   "version": "3.6.6"
  }
 },
 "nbformat": 4,
 "nbformat_minor": 2
}
