{
 "cells": [
  {
   "cell_type": "code",
   "execution_count": 84,
   "metadata": {},
   "outputs": [],
   "source": [
    "import os\n",
    "import io \n",
    "\n",
    "import json\n",
    "import pandas as pd\n",
    "\n",
    "from geomagio.iaga2002 import IAGA2002Factory\n",
    "import matplotlib.pyplot as plt\n",
    "%matplotlib inline"
   ]
  },
  {
   "cell_type": "code",
   "execution_count": 24,
   "metadata": {},
   "outputs": [],
   "source": [
    "### Loading data in bgs json format.\n",
    "\n",
    "had_json_fp = \"HAD_json\"\n",
    "esk_json_fp = \"ESK_json\"\n",
    "\n",
    "def load_bgs_json(folder):\n",
    "    for f in os.listdir(folder):\n",
    "        if f.endswith(\".json\"):\n",
    "            with open(os.path.join(folder, f)) as dat_file:\n",
    "                mag_json = json.load(dat_file)\n",
    "                try:\n",
    "                    mag_dat.append(pd.DataFrame(mag_json[\"timeSeries\"][\"dataPoints\"]))\n",
    "                except NameError:\n",
    "                    mag_dat = pd.DataFrame(mag_json[\"timeSeries\"][\"dataPoints\"])\n",
    "    \n",
    "    mag_dat[\"time\"] = pd.to_datetime(mag_dat[\"time\"])\n",
    "    return mag_dat\n",
    "\n",
    "test_df = load_bgs_json(had_json_fp)"
   ]
  },
  {
   "cell_type": "code",
   "execution_count": 23,
   "metadata": {},
   "outputs": [
    {
     "data": {
      "text/html": [
       "<div>\n",
       "<style scoped>\n",
       "    .dataframe tbody tr th:only-of-type {\n",
       "        vertical-align: middle;\n",
       "    }\n",
       "\n",
       "    .dataframe tbody tr th {\n",
       "        vertical-align: top;\n",
       "    }\n",
       "\n",
       "    .dataframe thead th {\n",
       "        text-align: right;\n",
       "    }\n",
       "</style>\n",
       "<table border=\"1\" class=\"dataframe\">\n",
       "  <thead>\n",
       "    <tr style=\"text-align: right;\">\n",
       "      <th></th>\n",
       "      <th>F</th>\n",
       "      <th>X</th>\n",
       "      <th>Y</th>\n",
       "      <th>Z</th>\n",
       "      <th>time</th>\n",
       "    </tr>\n",
       "  </thead>\n",
       "  <tbody>\n",
       "    <tr>\n",
       "      <th>43195</th>\n",
       "      <td>48470.00</td>\n",
       "      <td>19669.00</td>\n",
       "      <td>-970.00</td>\n",
       "      <td>44289.00</td>\n",
       "      <td>2012-04-30 23:55:00</td>\n",
       "    </tr>\n",
       "    <tr>\n",
       "      <th>43196</th>\n",
       "      <td>48470.00</td>\n",
       "      <td>19669.00</td>\n",
       "      <td>-970.00</td>\n",
       "      <td>44289.00</td>\n",
       "      <td>2012-04-30 23:56:00</td>\n",
       "    </tr>\n",
       "    <tr>\n",
       "      <th>43197</th>\n",
       "      <td>48470.00</td>\n",
       "      <td>19669.00</td>\n",
       "      <td>-970.00</td>\n",
       "      <td>44289.00</td>\n",
       "      <td>2012-04-30 23:57:00</td>\n",
       "    </tr>\n",
       "    <tr>\n",
       "      <th>43198</th>\n",
       "      <td>48470.00</td>\n",
       "      <td>19669.00</td>\n",
       "      <td>-970.00</td>\n",
       "      <td>44289.00</td>\n",
       "      <td>2012-04-30 23:58:00</td>\n",
       "    </tr>\n",
       "    <tr>\n",
       "      <th>43199</th>\n",
       "      <td>48470.00</td>\n",
       "      <td>19669.00</td>\n",
       "      <td>-970.00</td>\n",
       "      <td>44289.00</td>\n",
       "      <td>2012-04-30 23:59:00</td>\n",
       "    </tr>\n",
       "  </tbody>\n",
       "</table>\n",
       "</div>"
      ],
      "text/plain": [
       "              F         X        Y         Z                time\n",
       "43195  48470.00  19669.00  -970.00  44289.00 2012-04-30 23:55:00\n",
       "43196  48470.00  19669.00  -970.00  44289.00 2012-04-30 23:56:00\n",
       "43197  48470.00  19669.00  -970.00  44289.00 2012-04-30 23:57:00\n",
       "43198  48470.00  19669.00  -970.00  44289.00 2012-04-30 23:58:00\n",
       "43199  48470.00  19669.00  -970.00  44289.00 2012-04-30 23:59:00"
      ]
     },
     "execution_count": 23,
     "metadata": {},
     "output_type": "execute_result"
    }
   ],
   "source": [
    "test_df.tail()"
   ]
  },
  {
   "cell_type": "code",
   "execution_count": 86,
   "metadata": {
    "scrolled": true
   },
   "outputs": [
    {
     "data": {
      "text/html": [
       "<div>\n",
       "<style scoped>\n",
       "    .dataframe tbody tr th:only-of-type {\n",
       "        vertical-align: middle;\n",
       "    }\n",
       "\n",
       "    .dataframe tbody tr th {\n",
       "        vertical-align: top;\n",
       "    }\n",
       "\n",
       "    .dataframe thead th {\n",
       "        text-align: right;\n",
       "    }\n",
       "</style>\n",
       "<table border=\"1\" class=\"dataframe\">\n",
       "  <thead>\n",
       "    <tr style=\"text-align: right;\">\n",
       "      <th></th>\n",
       "      <th>H</th>\n",
       "      <th>D</th>\n",
       "      <th>Z</th>\n",
       "      <th>F</th>\n",
       "    </tr>\n",
       "    <tr>\n",
       "      <th>time</th>\n",
       "      <th></th>\n",
       "      <th></th>\n",
       "      <th></th>\n",
       "      <th></th>\n",
       "    </tr>\n",
       "  </thead>\n",
       "  <tbody>\n",
       "    <tr>\n",
       "      <th>2017-08-28 23:55:00</th>\n",
       "      <td>19780.400391</td>\n",
       "      <td>-113.190002</td>\n",
       "      <td>44389.898438</td>\n",
       "      <td>48597.601562</td>\n",
       "    </tr>\n",
       "    <tr>\n",
       "      <th>2017-08-28 23:56:00</th>\n",
       "      <td>19780.199219</td>\n",
       "      <td>-113.190002</td>\n",
       "      <td>44389.800781</td>\n",
       "      <td>48597.398438</td>\n",
       "    </tr>\n",
       "    <tr>\n",
       "      <th>2017-08-28 23:57:00</th>\n",
       "      <td>19780.500000</td>\n",
       "      <td>-113.190002</td>\n",
       "      <td>44389.800781</td>\n",
       "      <td>48597.500000</td>\n",
       "    </tr>\n",
       "    <tr>\n",
       "      <th>2017-08-28 23:58:00</th>\n",
       "      <td>19780.300781</td>\n",
       "      <td>-113.190002</td>\n",
       "      <td>44389.699219</td>\n",
       "      <td>48597.398438</td>\n",
       "    </tr>\n",
       "    <tr>\n",
       "      <th>2017-08-28 23:59:00</th>\n",
       "      <td>19780.400391</td>\n",
       "      <td>-113.199997</td>\n",
       "      <td>44389.601562</td>\n",
       "      <td>48597.300781</td>\n",
       "    </tr>\n",
       "  </tbody>\n",
       "</table>\n",
       "</div>"
      ],
      "text/plain": [
       "                                H           D             Z             F\n",
       "time                                                                     \n",
       "2017-08-28 23:55:00  19780.400391 -113.190002  44389.898438  48597.601562\n",
       "2017-08-28 23:56:00  19780.199219 -113.190002  44389.800781  48597.398438\n",
       "2017-08-28 23:57:00  19780.500000 -113.190002  44389.800781  48597.500000\n",
       "2017-08-28 23:58:00  19780.300781 -113.190002  44389.699219  48597.398438\n",
       "2017-08-28 23:59:00  19780.400391 -113.199997  44389.601562  48597.300781"
      ]
     },
     "execution_count": 86,
     "metadata": {},
     "output_type": "execute_result"
    }
   ],
   "source": [
    "### Loading data in the IAGA 2002 format.\n",
    "\n",
    "def iaga2002_to_df(file):\n",
    "    row = next(file)\n",
    "    while row:\n",
    "        vals = row.split()\n",
    "        if vals[0] == \"DATE\":\n",
    "            vals.remove('|')\n",
    "            vals.remove(\"DOY\")\n",
    "            vals.remove(\"DATE\")\n",
    "            vals[0] = vals[0].lower()\n",
    "            vals[1:] = (label[-1] for label in vals[1:])\n",
    "            cols = vals\n",
    "            break\n",
    "        row = next(file)\n",
    "    \n",
    "    all_rows = []\n",
    "    for i, row in enumerate(file):\n",
    "        vals = row.split()\n",
    "        vals[0] = vals[0] + \" \" + vals.pop(1)\n",
    "        del vals[1]\n",
    "        all_rows.append(vals)\n",
    "    \n",
    "    mag_dat = pd.DataFrame(all_rows, columns = cols)\n",
    "    mag_dat[\"time\"] = pd.to_datetime(mag_dat[\"time\"])\n",
    "    mag_dat[cols[1:]] = mag_dat[cols[1:]].astype(\"float32\")\n",
    "    mag_dat.set_index(\"time\", inplace=True)\n",
    "    return mag_dat\n",
    "    \n",
    "def load_intermagnet_iaga_min(folder):\n",
    "    for f in os.listdir(folder):\n",
    "        if f.endswith(\".min\"):\n",
    "            with open(os.path.join(folder, f)) as dat_file:\n",
    "                try:\n",
    "                    mag_dat = mag_dat.append(iaga2002_to_df(dat_file))\n",
    "                except NameError:\n",
    "                    mag_dat = iaga2002_to_df(dat_file)\n",
    "    \n",
    "    return mag_dat\n",
    "\n",
    "mag_dat = load_intermagnet_iaga_min(\"HAD_iaga\")\n",
    "mag_dat.head()"
   ]
  },
  {
   "cell_type": "code",
   "execution_count": 87,
   "metadata": {},
   "outputs": [
    {
     "data": {
      "text/plain": [
       "<matplotlib.axes._subplots.AxesSubplot at 0x7f7a8ea36be0>"
      ]
     },
     "execution_count": 87,
     "metadata": {},
     "output_type": "execute_result"
    },
    {
     "data": {
      "image/png": "[encoded data removed]",
      "text/plain": [
       "<Figure size 432x288 with 1 Axes>"
      ]
     },
     "metadata": {
      "needs_background": "light"
     },
     "output_type": "display_data"
    }
   ],
   "source": [
    "mag_dat.plot(y=\"F\")"
   ]
  },
  {
   "cell_type": "code",
   "execution_count": null,
   "metadata": {},
   "outputs": [],
   "source": []
  }
 ],
 "metadata": {
  "kernelspec": {
   "display_name": "Python 3",
   "language": "python",
   "name": "python3"
  },
  "language_info": {
   "codemirror_mode": {
    "name": "ipython",
    "version": 3
   },
   "file_extension": ".py",
   "mimetype": "text/x-python",
   "name": "python",
   "nbconvert_exporter": "python",
   "pygments_lexer": "ipython3",
   "version": "3.6.6"
  }
 },
 "nbformat": 4,
 "nbformat_minor": 2
}
