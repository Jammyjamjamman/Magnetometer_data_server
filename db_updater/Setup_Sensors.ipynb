{
 "cells": [
  {
   "cell_type": "markdown",
   "metadata": {},
   "source": [
    "## Adding the Sensors to the Database\n",
    "\n",
    "This jupyter notebook goes through the steps of loading sensor information to the database. It also generates the scripts for the sensors, so that they can load readings to the database.\n",
    "\n",
    "1. Load the relevant libraries."
   ]
  },
  {
   "cell_type": "code",
   "execution_count": 1,
   "metadata": {
    "nbpresent": {
     "id": "65aab04d-aba8-46ba-b947-6211dd60267b"
    }
   },
   "outputs": [],
   "source": [
    "import json\n",
    "import requests"
   ]
  },
  {
   "cell_type": "markdown",
   "metadata": {},
   "source": [
    "2. Load the information about the Frongoch magnetometer to the database. The information is stored in a file called `frongoch_sensor_details.json`."
   ]
  },
  {
   "cell_type": "code",
   "execution_count": 2,
   "metadata": {},
   "outputs": [
    {
     "name": "stdout",
     "output_type": "stream",
     "text": [
      "{'sensor_id': 'frg_single_fgm3', 'name': 'Frongoch Farm', 'address': 'B4572, Aberystwyth SY23 3DG, UK', 'UK_grid_ref': 'SN6056882610', 'latitude': 52.423649, 'longitude': -4.0519305, 'elevation': 133, 'coord_sys': 'F', 'raw_dat_params': ['time', 'reading', 'temperature']}\n"
     ]
    }
   ],
   "source": [
    "with open(\"frongoch_sensor_details.json\", 'r') as frg_file:\n",
    "    frg_info = json.load(frg_file)\n",
    "    \n",
    "print(frg_info)"
   ]
  },
  {
   "cell_type": "markdown",
   "metadata": {},
   "source": [
    "3. Add new sensors.\n",
    "\n",
    "### Adding the Frongoch magnetometer to the database.\n",
    "\n",
    "Load the script for loading the sensor And add the information."
   ]
  },
  {
   "cell_type": "code",
   "execution_count": null,
   "metadata": {},
   "outputs": [],
   "source": [
    "# Run this cell to see what the code looks like.\n",
    "%load add_sensor.py"
   ]
  },
  {
   "cell_type": "code",
   "execution_count": 3,
   "metadata": {},
   "outputs": [
    {
     "name": "stdout",
     "output_type": "stream",
     "text": [
      "Successfully added sensor to database!\n",
      "New sensor script generated. The script can be used to insert raw sensor data to the database using write_raw_dat(). write_mag_dat() can be used to write processed magnetometer data to the database. The script can be found in this directory with the filename: frg_single_fgm3_dat_insert.py\n",
      "Successfully generated script for inserting sensor readings for frg_single_fgm3!\n"
     ]
    }
   ],
   "source": [
    "from add_sensor import add_sensor\n",
    "# Add the sensor information to the database and generate script for loading sensor information.\n",
    "add_sensor(**frg_info)"
   ]
  },
  {
   "cell_type": "markdown",
   "metadata": {},
   "source": [
    "#### Run tests to see the Frongoch magnetometer script is setup correctly and that it has been added to the database.\n",
    "\n",
    "This will require the frongoch sensor id, insert script and the database read and writer password (to add and delete tests)."
   ]
  },
  {
   "cell_type": "code",
   "execution_count": null,
   "metadata": {},
   "outputs": [],
   "source": [
    "# Run this cell to see what the code looks like.\n",
    "%load test_sensor_script.py"
   ]
  },
  {
   "cell_type": "markdown",
   "metadata": {},
   "source": [
    "Run tests to see that the sensor was loaded into the database and that the scripts were generated correctly."
   ]
  },
  {
   "cell_type": "code",
   "execution_count": 4,
   "metadata": {},
   "outputs": [
    {
     "name": "stdout",
     "output_type": "stream",
     "text": [
      "Running tests for newly added sensor...\n",
      "\n",
      "Testing sensor information is in the database.\n",
      "[{'_id': 'frg_single_fgm3', 'latitude': 52.423649, 'longitude': -4.0519305, 'elevation': 133, 'coord_sys': 'F', 'name': 'Frongoch Farm', 'address': 'B4572, Aberystwyth SY23 3DG, UK', 'UK_grid_ref': 'SN6056882610', 'raw_dat_params': ['time', 'reading', 'temperature']}]\n",
      "Checking sensor info in db Success!\n",
      "\n",
      "Testing inserting raw sensor data using script.\n",
      "Successfully written to the database!\n",
      "Checking raw sensor data in db Success!\n",
      "\n",
      "Testing inserting magnetometer data using script.\n",
      "Successfully written to the database!\n",
      "Checking magnetometer data in db Success!\n",
      "\n",
      "Total number of failed tests: 0\n"
     ]
    }
   ],
   "source": [
    "from test_sensor_script import run_all_tests\n",
    "import frg_single_fgm3_dat_insert as frg_insert\n",
    "# Use the frongoch sensor id and the \n",
    "# The username and password for reading and writing to the database is \"Readwriter\" and \"rwpassword\".\n",
    "run_all_tests(frg_info[\"sensor_id\"], frg_insert, \"Readwriter\", \"rwpassword\")"
   ]
  },
  {
   "cell_type": "markdown",
   "metadata": {},
   "source": [
    "To load the Frongoch sensor data and magnetometer readings into the database, see [Load_Frongoch_Readings_to_DB](Load_Frongoch_Readings_to_DB.ipynb).\n",
    "\n",
    "### Adding the Hartland sensor information.\n",
    "\n",
    "The first step is to retrieve Hartland observatory data. This can be done by sourcing information from the [BGS Hartland website](http://geomag.bgs.ac.uk/operations/hartland.html). Then, insert the information into the database:"
   ]
  },
  {
   "cell_type": "code",
   "execution_count": 6,
   "metadata": {},
   "outputs": [
    {
     "name": "stdout",
     "output_type": "stream",
     "text": [
      "{'name': 'Hartland', 'sensor_id': 'HAD', 'latitude': 50.995, 'longitude': 355.516, 'elevation': 95, 'orientation': 'HDZF', 'coord_sys': 'HDZF', 'website': 'http://geomag.bgs.ac.uk/operations/hartland.html', 'In Operation since': '1957'}\n",
      "Successfully added sensor to database!\n",
      "New sensor script generated. The script can be used to insert raw sensor data to the database using write_raw_dat(). write_mag_dat() can be used to write processed magnetometer data to the database. The script can be found in this directory with the filename: HAD_dat_insert.py\n",
      "Successfully generated script for inserting sensor readings for HAD!\n"
     ]
    }
   ],
   "source": [
    "## Information sourced from: http://geomag.bgs.ac.uk/operations/hartland.html\n",
    "HAD_info = {\"name\": \"Hartland\",\n",
    "            \"sensor_id\": \"HAD\",\n",
    "            \"latitude\": 50.995,\n",
    "            \"longitude\": 355.516,\n",
    "            \"elevation\":  95,\n",
    "            \"orientation\": \"HDZF\",\n",
    "            \"coord_sys\": \"HDZF\",\n",
    "            \"website\": \"http://geomag.bgs.ac.uk/operations/hartland.html\",\n",
    "            \"In Operation since\": \"1957\"}\n",
    "\n",
    "print(HAD_info)\n",
    "# Add the information to the database.\n",
    "add_sensor(**HAD_info)"
   ]
  },
  {
   "cell_type": "markdown",
   "metadata": {},
   "source": [
    "Although Hartland data can be sourced using the [geomagio](https://github.com/usgs/geomag-algorithms), it is only retrievable in HEZF coordinates, and we would like HDZF co-ordinates."
   ]
  },
  {
   "cell_type": "markdown",
   "metadata": {},
   "source": [
    "### Adding the Eskdalemuir Magnetometer to the database.\n",
    "Unfortunately, the geomagio software cannot retrieve data for the Eskdalemuir sensor, so this needs adding manually.\n",
    "First, manually get sensor details from the bgs: http://geomag.bgs.ac.uk/operations/eskdale.html"
   ]
  },
  {
   "cell_type": "code",
   "execution_count": 8,
   "metadata": {},
   "outputs": [
    {
     "name": "stdout",
     "output_type": "stream",
     "text": [
      "Successfully added sensor to database!\n",
      "New sensor script generated. The script can be used to insert raw sensor data to the database using write_raw_dat(). write_mag_dat() can be used to write processed magnetometer data to the database. The script can be found in this directory with the filename: ESK_dat_insert.py\n",
      "Successfully generated script for inserting sensor readings for ESK!\n"
     ]
    }
   ],
   "source": [
    "ESK_info = {\"name\": \"Eskdalemuir\",\n",
    "            \"sensor_id\": \"ESK\",\n",
    "            \"address\": \"Eskdalemuir, Dumfries and Galloway, Scotland, United Kingdom\",\n",
    "            \"latitude\": 55.314,\n",
    "            \"longitude\": 356.794,\n",
    "            \"elevation\":  245,\n",
    "            \"orientation\": \"HDZF\",\n",
    "            \"coord_sys\": \"HDZF\",\n",
    "            \"website\": \"http://geomag.bgs.ac.uk/operations/eskdale.html\",\n",
    "            \"In Operation since\": \"1908\",\n",
    "            \"INTERMAGNET member since\": \"1991\"}\n",
    "\n",
    "add_sensor(**ESK_info)"
   ]
  },
  {
   "cell_type": "markdown",
   "metadata": {},
   "source": [
    "The data for Hartland and Eskdalemuir needs to be retrieved manually. This data can be sourced from either http://www.wdc.bgs.ac.uk/dataportal/ or from http://intermagnet.org/data-donnee/download-eng.php . See [Load_HAD_ESK_Data_to_DB](Load_HAD_ESK_Data_to_DB.ipynb) to load the Hartland and Eskdalemuir sensor data."
   ]
  }
 ],
 "metadata": {
  "anaconda-cloud": {},
  "kernelspec": {
   "display_name": "Python 3",
   "language": "python",
   "name": "python3"
  },
  "language_info": {
   "codemirror_mode": {
    "name": "ipython",
    "version": 3
   },
   "file_extension": ".py",
   "mimetype": "text/x-python",
   "name": "python",
   "nbconvert_exporter": "python",
   "pygments_lexer": "ipython3",
   "version": "3.6.6"
  },
  "nbpresent": {
   "slides": {},
   "themes": {
    "default": "ff80f977-9eaf-4970-963d-85c7beb34ae2",
    "theme": {
     "96e4e81e-a45a-4077-9781-8b92edc4741c": {
      "backgrounds": {
       "dc7afa04-bf90-40b1-82a5-726e3cff5267": {
        "background-color": "31af15d2-7e15-44c5-ab5e-e04b16a89eff",
        "id": "dc7afa04-bf90-40b1-82a5-726e3cff5267"
       }
      },
      "id": "96e4e81e-a45a-4077-9781-8b92edc4741c",
      "palette": {
       "19cc588f-0593-49c9-9f4b-e4d7cc113b1c": {
        "id": "19cc588f-0593-49c9-9f4b-e4d7cc113b1c",
        "rgb": [
         252,
         252,
         252
        ]
       },
       "31af15d2-7e15-44c5-ab5e-e04b16a89eff": {
        "id": "31af15d2-7e15-44c5-ab5e-e04b16a89eff",
        "rgb": [
         68,
         68,
         68
        ]
       },
       "50f92c45-a630-455b-aec3-788680ec7410": {
        "id": "50f92c45-a630-455b-aec3-788680ec7410",
        "rgb": [
         197,
         226,
         245
        ]
       },
       "c5cc3653-2ee1-402a-aba2-7caae1da4f6c": {
        "id": "c5cc3653-2ee1-402a-aba2-7caae1da4f6c",
        "rgb": [
         43,
         126,
         184
        ]
       },
       "efa7f048-9acb-414c-8b04-a26811511a21": {
        "id": "efa7f048-9acb-414c-8b04-a26811511a21",
        "rgb": [
         25.118061674008803,
         73.60176211453744,
         107.4819383259912
        ]
       }
      },
      "rules": {
       "a": {
        "color": "19cc588f-0593-49c9-9f4b-e4d7cc113b1c"
       },
       "blockquote": {
        "color": "50f92c45-a630-455b-aec3-788680ec7410",
        "font-size": 3
       },
       "code": {
        "font-family": "Anonymous Pro"
       },
       "h1": {
        "color": "19cc588f-0593-49c9-9f4b-e4d7cc113b1c",
        "font-family": "Merriweather",
        "font-size": 8
       },
       "h2": {
        "color": "19cc588f-0593-49c9-9f4b-e4d7cc113b1c",
        "font-family": "Merriweather",
        "font-size": 6
       },
       "h3": {
        "color": "50f92c45-a630-455b-aec3-788680ec7410",
        "font-family": "Lato",
        "font-size": 5.5
       },
       "h4": {
        "color": "c5cc3653-2ee1-402a-aba2-7caae1da4f6c",
        "font-family": "Lato",
        "font-size": 5
       },
       "h5": {
        "font-family": "Lato"
       },
       "h6": {
        "font-family": "Lato"
       },
       "h7": {
        "font-family": "Lato"
       },
       "li": {
        "color": "50f92c45-a630-455b-aec3-788680ec7410",
        "font-size": 3.25
       },
       "pre": {
        "font-family": "Anonymous Pro",
        "font-size": 4
       }
      },
      "text-base": {
       "color": "19cc588f-0593-49c9-9f4b-e4d7cc113b1c",
       "font-family": "Lato",
       "font-size": 4
      }
     },
     "ff80f977-9eaf-4970-963d-85c7beb34ae2": {
      "id": "ff80f977-9eaf-4970-963d-85c7beb34ae2",
      "palette": {
       "19cc588f-0593-49c9-9f4b-e4d7cc113b1c": {
        "id": "19cc588f-0593-49c9-9f4b-e4d7cc113b1c",
        "rgb": [
         252,
         252,
         252
        ]
       },
       "31af15d2-7e15-44c5-ab5e-e04b16a89eff": {
        "id": "31af15d2-7e15-44c5-ab5e-e04b16a89eff",
        "rgb": [
         68,
         68,
         68
        ]
       },
       "50f92c45-a630-455b-aec3-788680ec7410": {
        "id": "50f92c45-a630-455b-aec3-788680ec7410",
        "rgb": [
         155,
         177,
         192
        ]
       },
       "c5cc3653-2ee1-402a-aba2-7caae1da4f6c": {
        "id": "c5cc3653-2ee1-402a-aba2-7caae1da4f6c",
        "rgb": [
         43,
         126,
         184
        ]
       },
       "efa7f048-9acb-414c-8b04-a26811511a21": {
        "id": "efa7f048-9acb-414c-8b04-a26811511a21",
        "rgb": [
         25.118061674008803,
         73.60176211453744,
         107.4819383259912
        ]
       }
      },
      "rules": {
       "blockquote": {
        "color": "50f92c45-a630-455b-aec3-788680ec7410"
       },
       "code": {
        "font-family": "Anonymous Pro"
       },
       "h1": {
        "color": "c5cc3653-2ee1-402a-aba2-7caae1da4f6c",
        "font-family": "Lato",
        "font-size": 8
       },
       "h2": {
        "color": "c5cc3653-2ee1-402a-aba2-7caae1da4f6c",
        "font-family": "Lato",
        "font-size": 6
       },
       "h3": {
        "color": "50f92c45-a630-455b-aec3-788680ec7410",
        "font-family": "Lato",
        "font-size": 5.5
       },
       "h4": {
        "color": "c5cc3653-2ee1-402a-aba2-7caae1da4f6c",
        "font-family": "Lato",
        "font-size": 5
       },
       "h5": {
        "font-family": "Lato"
       },
       "h6": {
        "font-family": "Lato"
       },
       "h7": {
        "font-family": "Lato"
       },
       "pre": {
        "font-family": "Anonymous Pro",
        "font-size": 4
       }
      },
      "text-base": {
       "font-family": "Merriweather",
       "font-size": 4
      }
     }
    }
   }
  }
 },
 "nbformat": 4,
 "nbformat_minor": 2
}
