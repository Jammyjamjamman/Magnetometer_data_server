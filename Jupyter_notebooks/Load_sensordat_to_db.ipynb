{
 "cells": [
  {
   "cell_type": "markdown",
   "metadata": {},
   "source": [
    "## Initial database setup.\n",
    "\n",
    "\n",
    "### Create an encrypted file with all the database passwords using [Fernet](https://cryptography.io/en/latest/fernet/).\n",
    "\n",
    "1. Import relevant libs. Use fernet from cryptography lib."
   ]
  },
  {
   "cell_type": "code",
   "execution_count": 1,
   "metadata": {},
   "outputs": [
    {
     "name": "stderr",
     "output_type": "stream",
     "text": [
      "/home/james/anaconda3/envs/anacenv/lib/python3.6/importlib/_bootstrap.py:219: RuntimeWarning: numpy.dtype size changed, may indicate binary incompatibility. Expected 96, got 88\n",
      "  return f(*args, **kwds)\n",
      "/home/james/anaconda3/envs/anacenv/lib/python3.6/importlib/_bootstrap.py:219: RuntimeWarning: numpy.dtype size changed, may indicate binary incompatibility. Expected 96, got 88\n",
      "  return f(*args, **kwds)\n"
     ]
    }
   ],
   "source": [
    "from cryptography.fernet import Fernet\n",
    "import json\n",
    "\n",
    "from pymongo import MongoClient\n",
    "import csv\n",
    "\n",
    "import pandas as pd\n",
    "import numpy as np\n",
    "\n",
    "import matplotlib.pyplot as plt\n",
    "%matplotlib inline"
   ]
  },
  {
   "cell_type": "markdown",
   "metadata": {},
   "source": [
    "2. Create dictionary with passwords and master password (Delete this cell after use!)."
   ]
  },
  {
   "cell_type": "code",
   "execution_count": 15,
   "metadata": {},
   "outputs": [
    {
     "name": "stdout",
     "output_type": "stream",
     "text": [
      "The key is: b'bZ54iqDolhe8n-UBJ8wCwOgN61a9_Ef_TUX7HUB5LIE='\n"
     ]
    }
   ],
   "source": [
    "password_dict = {\"Obsmanager\": \"obspassword\",\n",
    "                 \"Sensorwriter\": \"senpassword\",\n",
    "                 \"Magnetwriter\": \"magpassword\",\n",
    "                 \"Datreader\": \"readpassword\"}\n",
    "\n",
    "# Keep this safe!\n",
    "key = b'bZ54iqDolhe8n-UBJ8wCwOgN61a9_Ef_TUX7HUB5LIE='#Fernet.generate_key()\n",
    "print(\"The key is:\", key)"
   ]
  },
  {
   "cell_type": "markdown",
   "metadata": {},
   "source": [
    "3. Encrypt passwords."
   ]
  },
  {
   "cell_type": "code",
   "execution_count": 16,
   "metadata": {},
   "outputs": [],
   "source": [
    "f = Fernet(key)\n",
    "token = f.encrypt(bytes(json.dumps(password_dict), \"utf-8\"))\n",
    "with open(\"access.crypt\", 'wb') as cr_file:\n",
    "    cr_file.write(token)\n",
    "\n",
    "del password_dict, f, token"
   ]
  },
  {
   "cell_type": "markdown",
   "metadata": {},
   "source": [
    "4. Try reloading passwords."
   ]
  },
  {
   "cell_type": "code",
   "execution_count": 17,
   "metadata": {},
   "outputs": [
    {
     "name": "stdout",
     "output_type": "stream",
     "text": [
      "{'Obsmanager': 'obspassword', 'Sensorwriter': 'senpassword', 'Magnetwriter': 'magpassword', 'Datreader': 'readpassword'}\n"
     ]
    }
   ],
   "source": [
    "f = Fernet(key)\n",
    "with open(\"access.crypt\", 'rb') as cr_file:\n",
    "    password_dict = json.loads(f.decrypt(cr_file.read()).decode(\"utf-8\"))\n",
    "    \n",
    "print(password_dict)"
   ]
  },
  {
   "cell_type": "markdown",
   "metadata": {},
   "source": [
    "### Add a sensor to the database.\n",
    "1. Connect to the database."
   ]
  },
  {
   "cell_type": "code",
   "execution_count": 8,
   "metadata": {},
   "outputs": [],
   "source": [
    "# Get the connection and select the \"sensorDat\" collection in the \"mag_db\" database.\n",
    "client = MongoClient(\"localhost\",\n",
    "                      username=\"Obsmanager\",\n",
    "                      password=password_dict[\"Obsmanager\"],\n",
    "                      authSource=\"mag_db\")[\"mag_db\"][\"observatories\"]"
   ]
  },
  {
   "cell_type": "markdown",
   "metadata": {},
   "source": [
    "2. Add the new observatories."
   ]
  },
  {
   "cell_type": "code",
   "execution_count": 10,
   "metadata": {},
   "outputs": [
    {
     "name": "stdout",
     "output_type": "stream",
     "text": [
      "{'_id': 'frg_single_fgm3', 'Location': 'Frongoch Farm', 'latlon': None, 'coord_sys': 'H'}\n"
     ]
    }
   ],
   "source": [
    "with open(\"observatories.txt\", 'r') as obs_file:\n",
    "    for obs in obs_file:\n",
    "        obs_dat = json.loads(obs)\n",
    "        print(obs_dat)\n",
    "        client.insert_one(obs_dat)"
   ]
  },
  {
   "cell_type": "markdown",
   "metadata": {},
   "source": [
    "### Write raw sensor data to the database.\n",
    "\n",
    "1. Connect to the database."
   ]
  },
  {
   "cell_type": "code",
   "execution_count": 12,
   "metadata": {},
   "outputs": [],
   "source": [
    "# Get a connection to the mongo database.\n",
    "# Get the connection and select the \"sensorDat\" collection in the \"mag_db\" database.\n",
    "client = MongoClient(\"localhost\",\n",
    "                      username=\"Sensorwriter\",\n",
    "                      password=password_dict[\"Sensorwriter\"],\n",
    "                      authSource=\"mag_db\")[\"mag_db\"][\"sensorDat\"]"
   ]
  },
  {
   "cell_type": "markdown",
   "metadata": {},
   "source": [
    "2. Load sensor data and write to the database."
   ]
  },
  {
   "cell_type": "code",
   "execution_count": 14,
   "metadata": {},
   "outputs": [],
   "source": [
    "dat_fp = \"../mag_data_copy/\"\n",
    "years = [\"2011\", \"2012\", \"2013\", \"2014\", \"2015\", \"2016\", \"2017\", \"2018\"]\n",
    "# Batch size to load data into mongodb. Set to load 10000 items at a time.\n",
    "batch_sz = 10000\n",
    "\n",
    "\n",
    "for year in years:\n",
    "    for chunk in pd.read_csv(dat_fp+year+\"_mag_dat.csv\",\n",
    "                             dtype={\"time\": np.object_,\n",
    "                                    \"reading\": np.float64,\n",
    "                                    \"temperature\": np.float64},\n",
    "                             chunksize=batch_sz):\n",
    "        chunk[\"time\"] = pd.to_datetime(chunk[\"time\"],format=\"%Y-%m-%d %H:%M:%S\")\n",
    "        chunk = chunk.loc[chunk[\"time\"].notnull()]\n",
    "        chunk[\"sensor_id\"] = \"frg_single_fgm3\"\n",
    "        client.insert_many(chunk.T.to_dict().values())"
   ]
  },
  {
   "cell_type": "code",
   "execution_count": null,
   "metadata": {},
   "outputs": [],
   "source": []
  }
 ],
 "metadata": {
  "anaconda-cloud": {},
  "kernelspec": {
   "display_name": "Python [conda env:anacenv]",
   "language": "python",
   "name": "conda-env-anacenv-py"
  },
  "language_info": {
   "codemirror_mode": {
    "name": "ipython",
    "version": 3
   },
   "file_extension": ".py",
   "mimetype": "text/x-python",
   "name": "python",
   "nbconvert_exporter": "python",
   "pygments_lexer": "ipython3",
   "version": "3.6.6"
  }
 },
 "nbformat": 4,
 "nbformat_minor": 2
}
